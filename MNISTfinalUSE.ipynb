{
 "cells": [
  {
   "cell_type": "code",
   "execution_count": 15,
   "id": "3be5101c",
   "metadata": {},
   "outputs": [
    {
     "name": "stdout",
     "output_type": "stream",
     "text": [
      "✅ Model loaded successfully.\n",
      "\n",
      "🔢 Predicted Digit: 2\n",
      "📊 Confidence: 42.27%\n"
     ]
    },
    {
     "data": {
      "image/png": "[encoded data removed]",
      "text/plain": [
       "<Figure size 640x480 with 1 Axes>"
      ]
     },
     "metadata": {},
     "output_type": "display_data"
    }
   ],
   "source": [
    "# -------------------- Imports --------------------\n",
    "import pickle\n",
    "import math\n",
    "from PIL import Image, ImageOps, ImageFilter\n",
    "import matplotlib.pyplot as plt\n",
    "import numpy as np\n",
    "\n",
    "# -------------------- Load Trained Model --------------------\n",
    "with open('mnist_scratch_model.pkl', 'rb') as f:\n",
    "    model = pickle.load(f)\n",
    "\n",
    "W1 = model['W1']\n",
    "b1 = model['b1']\n",
    "W2 = model['W2']\n",
    "b2 = model['b2']\n",
    "\n",
    "print(\"✅ Model loaded successfully.\")\n",
    "\n",
    "# -------------------- Preprocess Image --------------------\n",
    "def preprocess_image(path):\n",
    "    \"\"\"\n",
    "    Converts an image to MNIST-style:\n",
    "    - Grayscale\n",
    "    - Invert (white digit on black)\n",
    "    - Binarize & crop tight around digit\n",
    "    - Resize and pad to 28x28\n",
    "    - Normalize to [0,1]\n",
    "    \"\"\"\n",
    "    img = Image.open(path).convert('L')              # Grayscale\n",
    "    img = ImageOps.invert(img)                       # Invert colors\n",
    "    img = img.point(lambda x: 0 if x < 30 else 255, '1')  # Binarize to remove noise\n",
    "    img = img.convert('L')                           # Convert back to grayscale\n",
    "\n",
    "    bbox = img.getbbox()\n",
    "    img = img.crop(bbox)                             # Crop tight around digit\n",
    "    img = ImageOps.pad(img, (28, 28), method=Image.Resampling.LANCZOS, color=0)  # Resize + center\n",
    "    img = img.filter(ImageFilter.SHARPEN)            # Enhance edges\n",
    "\n",
    "    pixels = list(img.getdata())\n",
    "    return [p / 255.0 for p in pixels], img          # Normalize + return display image\n",
    "\n",
    "# -------------------- Activation Functions --------------------\n",
    "def relu(x): return [max(0, val) for val in x]\n",
    "def softmax(x):\n",
    "    max_x = max(x)\n",
    "    exps = [math.exp(i - max_x) for i in x]\n",
    "    return [j / sum(exps) for j in exps]\n",
    "\n",
    "# -------------------- Predict Digit --------------------\n",
    "def predict(x):\n",
    "    z1 = [sum(w * xi for w, xi in zip(row, x)) + b for row, b in zip(W1, b1)]\n",
    "    a1 = relu(z1)\n",
    "    z2 = [sum(w * ai for w, ai in zip(row, a1)) + b for row, b in zip(W2, b2)]\n",
    "    out = softmax(z2)\n",
    "    pred = out.index(max(out))\n",
    "    confidence = max(out)\n",
    "    return pred, confidence\n",
    "\n",
    "# -------------------- Run Prediction --------------------\n",
    "image_path = 'download.png'  # 🔁 Replace with your image path\n",
    "img_vector, display_img = preprocess_image(image_path)\n",
    "label, conf = predict(img_vector)\n",
    "\n",
    "# -------------------- Output --------------------\n",
    "print(f\"\\n🔢 Predicted Digit: {label}\")\n",
    "print(f\"📊 Confidence: {conf * 100:.2f}%\")\n",
    "\n",
    "# -------------------- Visualize --------------------\n",
    "plt.imshow(np.array(display_img), cmap='gray')\n",
    "plt.title(f\"Predicted: {label} ({conf*100:.1f}%)\")\n",
    "plt.axis('off')\n",
    "plt.show()"
   ]
  }
 ],
 "metadata": {
  "kernelspec": {
   "display_name": "Python 3",
   "language": "python",
   "name": "python3"
  },
  "language_info": {
   "codemirror_mode": {
    "name": "ipython",
    "version": 3
   },
   "file_extension": ".py",
   "mimetype": "text/x-python",
   "name": "python",
   "nbconvert_exporter": "python",
   "pygments_lexer": "ipython3",
   "version": "3.12.0"
  }
 },
 "nbformat": 4,
 "nbformat_minor": 5
}
